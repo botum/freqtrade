{
 "cells": [
  {
   "cell_type": "markdown",
   "metadata": {},
   "source": [
    "# Let's draw some trends"
   ]
  },
  {
   "cell_type": "code",
   "execution_count": 30,
   "metadata": {
    "scrolled": false
   },
   "outputs": [
    {
     "name": "stderr",
     "output_type": "stream",
     "text": [
      "2018-04-25 12:06:06,884 - freqtrade.configuration - INFO - Using config: ../config_testing.json ...\n",
      "2018-04-25 12:06:06,885 - freqtrade.configuration - INFO - Validating configuration ...\n",
      "2018-04-25 12:06:06,889 - freqtrade.configuration - INFO - Log level set at 20\n",
      "2018-04-25 12:06:06,890 - freqtrade.configuration - INFO - Using max_open_trades: 50 ...\n",
      "2018-04-25 12:06:06,891 - freqtrade.configuration - INFO - Parameter --datadir detected: freqtrade/tests/testdata ...\n",
      "2018-04-25 12:06:06,893 - freqtrade.strategy.strategy - INFO - Load strategy class: DefaultStrategy (user_data.strategies.trend001.py)\n",
      "2018-04-25 12:06:06,902 - freqtrade.exchange - INFO - Instance is running with dry_run enabled\n",
      "2018-04-25 12:06:06,904 - freqtrade.exchange - INFO - Using Exchange \"Bittrex\"\n",
      "2018-04-25 12:06:06,907 - requests.packages.urllib3.connectionpool - INFO - Starting new HTTPS connection (1): bittrex.com\n"
     ]
    },
    {
     "name": "stdout",
     "output_type": "stream",
     "text": [
      "interval :  1d\n",
      "interval :  1h\n",
      "interval :  1m\n"
     ]
    }
   ],
   "source": [
    "\n",
    "import copy\n",
    "import sys\n",
    "from typing import Dict, List, Tuple\n",
    "from pandas import DataFrame, to_datetime\n",
    "\n",
    "from freqtrade import (DependencyException, OperationalException, exchange, persistence)\n",
    "from freqtrade.arguments import Arguments\n",
    "from freqtrade.configuration import Configuration\n",
    "from freqtrade.analyze import Analyze\n",
    "from freqtrade.exchange import get_ticker_history\n",
    "from freqtrade.logger import Logger\n",
    "from freqtrade.persistence import Trade, Pair\n",
    "\n",
    "from scipy import stats\n",
    "import numpy as np\n",
    "import matplotlib.pyplot as plt\n",
    "from zigzag import *\n",
    "\n",
    "sysargv=['-s', 'trend001', '-c', '../config_testing.json']\n",
    "\n",
    "arguments = Arguments(\n",
    "    sysargv,\n",
    "    'Simple High Frequency Trading Bot for crypto currencies'\n",
    ")\n",
    "args = arguments.get_parsed_arg()\n",
    "\n",
    "# Initialize all modules\n",
    "configuration = Configuration(args)\n",
    "config = configuration.get_config()\n",
    "analyze = Analyze(config)\n",
    "\n",
    "logger = Logger(name=__name__, level=config.get('loglevel')).get_logger()\n",
    "\n",
    "persistence.init(config)\n",
    "exchange.init(config)\n",
    "\n",
    "interval = analyze.get_ticker_interval()\n",
    "\n",
    "\n",
    "def plot_pivots(X, pivots):\n",
    "    plt.xlim(0, len(X))\n",
    "    plt.ylim(X.min()*0.99, X.max()*1.01)\n",
    "    plt.plot(np.arange(len(X)), X, 'k:', alpha=0.5)\n",
    "    plt.plot(np.arange(len(X))[pivots != 0], X[pivots != 0], 'k-')\n",
    "    plt.scatter(np.arange(len(X))[pivots == 1], X[pivots == 1], color='g')\n",
    "    plt.scatter(np.arange(len(X))[pivots == -1], X[pivots == -1], color='r')\n",
    "    plt.show()\n",
    "\n",
    "\n",
    "def get_df(pair: str, interval: str) -> DataFrame:\n",
    "    \"\"\"\n",
    "    Calculates current signal based several technical analysis indicators\n",
    "    :param pair: pair in format ANT/BTC\n",
    "    :param interval: Interval to use (in min)\n",
    "    :return: (Buy, Sell) A bool-tuple indicating buy/sell signal\n",
    "    \"\"\"\n",
    "    print('interval : ',interval)\n",
    "    ticker_hist = get_ticker_history(pair, interval)\n",
    "#     print (ticker_hist)\n",
    "    if not ticker_hist:\n",
    "        logger.warning('Empty ticker history for pair %s', pair)\n",
    "        return None\n",
    "\n",
    "    try:\n",
    "        dataframe = analyze.analyze_ticker(ticker_hist, pair= pair)\n",
    "    except ValueError as error:\n",
    "        logger.warning(\n",
    "            'Unable to analyze ticker for pair %s: %s',\n",
    "            pair,\n",
    "            str(error)\n",
    "        )\n",
    "        return None\n",
    "    except Exception as error:\n",
    "        logger.exception(\n",
    "            'Unexpected error when analyzing ticker for pair %s: %s',\n",
    "            pair,\n",
    "            str(error)\n",
    "        )\n",
    "        return None\n",
    "    \n",
    "    return dataframe\n",
    "\n",
    "\n",
    "def gentrends(df, charts=True, pair='default_filename_plot'):\n",
    "    \"\"\"\n",
    "    Returns a Pandas dataframe with support and resistance lines.\n",
    "\n",
    "    :param x: One-dimensional data set\n",
    "    :param window: How long the trendlines should be. If window < 1, then it\n",
    "                   will be taken as a percentage of the size of the data\n",
    "    :param charts: Boolean value saying whether to print chart to screen\n",
    "    \"\"\"\n",
    "\n",
    "    h = df.high[df['pivots']==1]\n",
    "    l = df.low[df['pivots']==-1]\n",
    "    \n",
    "    trend_h = []\n",
    "    \n",
    "    for i in range(1, len(h)-1):\n",
    "        trend_h.append(stats.linregress([i,h.iloc[i]], [i+1, h.iloc[i+1]]))\n",
    "    \n",
    "    for l in trend_r:\n",
    "        slope, intercept, r_value, p_value, std_err = l\n",
    "        plt.plot(df.index, df.high, 'o', label='original data')\n",
    "#         plt.plot(df.index, intercept + slope*df.high, 'r', label='fitted line')\n",
    "        \n",
    "        \n",
    "#     print ('resistance trends: ', trend_r)\n",
    "\n",
    "#     max1 = df.index[df['pivots'] == 1].max()  # find the index of the abs max\n",
    "#     min1 = df.index[df['pivots'] == -1].min()  # find the index of the abs min\n",
    "#     print (max1)\n",
    "#     print (min1)\n",
    "    \n",
    "#     max2 = df[max1:].index[df['pivots'] == 1].max()\n",
    "\n",
    "#     min2 = df[min1:].index[df['pivots'] == -1].min()\n",
    "\n",
    "#     print ('max1: ', max1)\n",
    "#     print ('max2: ', max2)\n",
    "#     print ('min1: ', min1)\n",
    "#     print ('min2: ', min2)\n",
    "\n",
    "    # Create & extend the lines\n",
    "#     maxslope = (df[max1].high - df[max2].high) / (max1 - max2)  # slope between max points\n",
    "#     minslope = (df[min1].low - df[min2].low) / (min1 - min2)  # slope between min points\n",
    "#     a_max = h[max1] - (maxslope * max1)  # y-intercept for max trendline\n",
    "#     a_min = l[min1] - (minslope * min1)  # y-intercept for min trendline\n",
    "#     b_max = h[max1] + (maxslope * (len(h) - max1))  # extend to last data pt\n",
    "#     b_min = l[min1] + (minslope * (len(l) - min1))  # extend to last data point\n",
    "#     maxline = np.linspace(a_max, b_max, len(h))  # Y values between max's\n",
    "#     minline = np.linspace(a_min, b_min, len(l))  # Y values between min's\n",
    "\n",
    "    \n",
    "#     print ('h[max1]: ', h[max1])\n",
    "#     print ('h[max2]: ', h[max2])\n",
    "    \n",
    "#     print ('maxslope: ', maxslope)\n",
    "#     print ('minslope: ', minslope)\n",
    "    \n",
    "#     print ('a_max: ', a_max)\n",
    "#     print ('a_min: ', a_min)\n",
    "#     print ('b_max: ', b_max)\n",
    "#     print ('b_min: ', b_min)\n",
    "\n",
    "#     print ('maxline: ', maxline)\n",
    "#     print ('minline: ', minline)\n",
    "    # print (df)\n",
    "\n",
    "    # OUTPUT\n",
    "#     trends = np.transpose(np.array((maxline, minline)))\n",
    "\n",
    "#     print ('trends: ', trends)\n",
    "#     trends = DataFrame(trends, index=np.arange(0, len(df)),\n",
    "#                           columns=['Max Line', 'Min Line'])\n",
    "\n",
    "    if charts is True:\n",
    "        plt.plot(trend_h)\n",
    "        plt.grid()\n",
    "        filename = 'chart_plots/' + pair + '.png'\n",
    "        plt.savefig(filename)\n",
    "#         show()\n",
    "\n",
    "    return trend_h\n",
    "\n",
    "\n",
    "# whitelist = copy.deepcopy(config['exchange']['pair_whitelist'])\n",
    "\n",
    "# for _pair in whitelist:\n",
    "#     df = get_df(pair=_pair, interval=interval)\n",
    "# #     print (df)\n",
    "#     pivots = peak_valley_pivots(df.close.values, 0.02, -0.01)\n",
    "#     print (pivots)\n",
    "#     plot_pivots(df.close, pivots)\n",
    "#     df[pivots] = pivots\n",
    "#     gentrends(df)\n",
    "#     print (df.head())\n",
    "\n",
    "\n",
    "pair = \"ETH/BTC\"\n",
    "dfs={\n",
    "    '1d': get_df(pair=pair, interval='1d'),\n",
    "    '1h': get_df(pair=pair, interval='1h'),\n",
    "    '1m': get_df(pair=pair, interval='1m'),\n",
    "}\n",
    "\n",
    "# pair_obj = Pair.query.filter(Pair.pair.is_(pair)).first()\n",
    "\n",
    "# if pair_obj == None:\n",
    "#     pair_obj = Pair(\n",
    "#         pair=pair\n",
    "#     )\n",
    "#     Pair.session.add(pair_obj)\n",
    "    \n",
    "#     # trend = get_trend(pair, 30)\n",
    "#     # # Not in downtrend in the last 24hrs\n",
    "#     # if trend != 1:\n",
    "#     #     sanitized_whitelist.remove(pair)\n",
    "#     Pair.session.flush()\n"
   ]
  },
  {
   "cell_type": "code",
   "execution_count": 29,
   "metadata": {
    "scrolled": false
   },
   "outputs": [
    {
     "name": "stdout",
     "output_type": "stream",
     "text": [
      "0.005068373260818813\n",
      "668\n",
      "684\n",
      "0.00036989059671602956\n",
      "41\n",
      "63\n",
      "0.0001245316933052403\n",
      "12780\n",
      "12852\n"
     ]
    },
    {
     "data": {
      "image/png": "[encoded data removed]",
      "text/plain": [
       "<matplotlib.figure.Figure at 0x7f47ed856978>"
      ]
     },
     "metadata": {},
     "output_type": "display_data"
    }
   ],
   "source": [
    "timeframes = ['1d', '1h', '1m']\n",
    "from math import sqrt\n",
    "\n",
    "for t in timeframes:\n",
    "    df = dfs[t]\n",
    "    volat = sqrt(df['stddev'].max())/2\n",
    "    print(volat * volat)\n",
    "    pivots = peak_valley_pivots(df.close.values, volat,-volat)\n",
    "    # print (pivots)\n",
    "    df['pivots'] = np.transpose(np.array((pivots)))\n",
    "    \n",
    "    max1 = df.high[df['pivots'] == 1].idxmax()\n",
    "\n",
    "    \n",
    "    print (max1)\n",
    "    rest = df[max1+1:]\n",
    "    # print (rest)\n",
    "    # print(len(rest))\n",
    "    max2 = rest.high[df['pivots'] == 1].idxmax()\n",
    "    # h = df[['pivots'] == 1]\n",
    "    # max1 = df.iloc[df['pivots'] == 1].index  # find the index of the abs max\n",
    "    # min1 = df[pivots == -1].min()  # find the index of the abs min\n",
    "    print (max2)\n",
    "    # print (min1)\n",
    "    gentrends(df)\n",
    "    # print (df.head())"
   ]
  },
  {
   "cell_type": "code",
   "execution_count": 3,
   "metadata": {},
   "outputs": [
    {
     "name": "stdout",
     "output_type": "stream",
     "text": [
      "                       date      open      high       low     close    volume  \\\n",
      "0 2018-04-15 14:04:00+00:00  0.063358  0.063445  0.063358  0.063445  0.793665   \n",
      "1 2018-04-15 14:05:00+00:00  0.063358  0.063450  0.063358  0.063450  5.290838   \n",
      "2 2018-04-15 14:06:00+00:00  0.063450  0.063450  0.063358  0.063358  2.998887   \n",
      "3 2018-04-15 14:07:00+00:00  0.063358  0.063389  0.063300  0.063389  3.859812   \n",
      "4 2018-04-15 14:08:00+00:00  0.063389  0.063440  0.063389  0.063440  0.157756   \n",
      "\n",
      "   macd  macdsignal  macdhist  mfi   ...      blower  bb_lowerband  \\\n",
      "0   NaN         NaN       NaN  NaN   ...         NaN           NaN   \n",
      "1   NaN         NaN       NaN  NaN   ...         NaN           NaN   \n",
      "2   NaN         NaN       NaN  NaN   ...         NaN           NaN   \n",
      "3   NaN         NaN       NaN  NaN   ...         NaN           NaN   \n",
      "4   NaN         NaN       NaN  NaN   ...    0.063416           NaN   \n",
      "\n",
      "   bb_middleband  bb_upperband  stddev   ha_open  ha_close  buy  sell  pivots  \n",
      "0            NaN           NaN     NaN  0.063358  0.063402  NaN   NaN      -1  \n",
      "1            NaN           NaN     NaN  0.063380  0.063404  NaN   NaN       0  \n",
      "2            NaN           NaN     NaN  0.063381  0.063404  NaN   NaN       0  \n",
      "3            NaN           NaN     NaN  0.063404  0.063359  NaN   NaN       0  \n",
      "4            NaN           NaN     0.0  0.063382  0.063414  NaN   NaN       0  \n",
      "\n",
      "[5 rows x 23 columns]\n"
     ]
    }
   ],
   "source": [
    "print (df.head())\n",
    "indices = np.flatnonzero(df['pivots'] == 1)"
   ]
  },
  {
   "cell_type": "code",
   "execution_count": 4,
   "metadata": {},
   "outputs": [
    {
     "data": {
      "text/plain": [
       "4.0"
      ]
     },
     "execution_count": 4,
     "metadata": {},
     "output_type": "execute_result"
    }
   ],
   "source": [
    "\n",
    "from math import pow\n",
    "pow(2,2)"
   ]
  },
  {
   "cell_type": "code",
   "execution_count": 27,
   "metadata": {},
   "outputs": [
    {
     "name": "stdout",
     "output_type": "stream",
     "text": [
      "14236\n",
      "14000\n"
     ]
    },
    {
     "data": {
      "image/png": "[encoded data removed]",
      "text/plain": [
       "<matplotlib.figure.Figure at 0x7f4828bf7d68>"
      ]
     },
     "metadata": {},
     "output_type": "display_data"
    },
    {
     "data": {
      "image/png": "[encoded data removed]",
      "text/plain": [
       "<matplotlib.figure.Figure at 0x7f4828bf7a20>"
      ]
     },
     "metadata": {},
     "output_type": "display_data"
    }
   ],
   "source": [
    "\n",
    "# def parser(x):\n",
    "# \treturn datetime.strptime('190'+x, '%Y-%m')\n",
    "\n",
    "timeframe = 14000\n",
    "short_df = df['close'][-timeframe:]\n",
    "short_pivots = pivots[:timeframe]\n",
    "def price_pivots (row):\n",
    "   if row['pivots'] != 0 :\n",
    "      return row['close']\n",
    "   else:\n",
    "      return 0\n",
    "    \n",
    "df['pivots_price'] = df.apply(lambda row: price_pivots(row), axis=1)\n",
    "\n",
    "short_pivots_price = df['pivots_price'][-timeframe:]\n",
    "print(len(df))\n",
    "print(len(short_pivots))\n",
    "\n",
    "plot_pivots(short_df, short_pivots)\n",
    "# plt.plot(short_pivots_price)\n",
    "# plt.show()\n",
    "# plt.plot(short_pivots)\n",
    "series = short_pivots_price\n",
    "X = series.values\n",
    "diff = list()\n",
    "for i in range(1, len(X)):\n",
    "\tvalue = X[i] - X[i - 1]\n",
    "\tdiff.append(value)\n",
    "plt.plot(diff)\n",
    "plt.show()\n"
   ]
  },
  {
   "cell_type": "markdown",
   "metadata": {},
   "source": []
  },
  {
   "cell_type": "code",
   "execution_count": 28,
   "metadata": {},
   "outputs": [
    {
     "data": {
      "image/png": "[encoded data removed]",
      "text/plain": [
       "<matplotlib.figure.Figure at 0x7f47ead98c88>"
      ]
     },
     "metadata": {},
     "output_type": "display_data"
    },
    {
     "data": {
      "image/png": "[encoded data removed]",
      "text/plain": [
       "<matplotlib.figure.Figure at 0x7f47eab00710>"
      ]
     },
     "metadata": {},
     "output_type": "display_data"
    }
   ],
   "source": [
    "from sklearn.linear_model import LinearRegression\n",
    "\n",
    "# fit linear model\n",
    "X = [i for i in range(0, len(series))]\n",
    "X = np.reshape(X, (len(X), 1))\n",
    "y = series.values\n",
    "model = LinearRegression()\n",
    "model.fit(X, y)\n",
    "# calculate trend\n",
    "trend = model.predict(X)\n",
    "# plot trend\n",
    "plt.plot(y)\n",
    "plt.plot(trend)\n",
    "plt.show()\n",
    "# detrend\n",
    "detrended = [y[i]-trend[i] for i in range(0, len(series))]\n",
    "# plot detrended\n",
    "plt.plot(detrended)\n",
    "plt.show()"
   ]
  }
 ],
 "metadata": {
  "kernelspec": {
   "display_name": "Python 3",
   "language": "python",
   "name": "python3"
  },
  "language_info": {
   "codemirror_mode": {
    "name": "ipython",
    "version": 3
   },
   "file_extension": ".py",
   "mimetype": "text/x-python",
   "name": "python",
   "nbconvert_exporter": "python",
   "pygments_lexer": "ipython3",
   "version": "3.6.3"
  }
 },
 "nbformat": 4,
 "nbformat_minor": 2
}
